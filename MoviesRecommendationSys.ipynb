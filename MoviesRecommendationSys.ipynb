{
 "cells": [
  {
   "cell_type": "code",
   "execution_count": 1,
   "id": "40340e3b",
   "metadata": {},
   "outputs": [],
   "source": [
    "### Import DEPENDENCIES"
   ]
  },
  {
   "cell_type": "code",
   "execution_count": 2,
   "id": "da75a774",
   "metadata": {},
   "outputs": [],
   "source": [
    "import pandas as pd\n",
    "import numpy as np\n",
    "import difflib\n",
    "import matplotlib.pyplot as plt\n",
    "import seaborn as sns\n",
    "from sklearn.feature_extraction.text import TfidfVectorizer\n",
    "from sklearn.metrics.pairwise import cosine_similarity"
   ]
  },
  {
   "cell_type": "code",
   "execution_count": 3,
   "id": "59acfdd2",
   "metadata": {},
   "outputs": [],
   "source": [
    "### DATA SET & PREPROCESSING\n"
   ]
  },
  {
   "cell_type": "code",
   "execution_count": 4,
   "id": "87516413",
   "metadata": {},
   "outputs": [
    {
     "name": "stdout",
     "output_type": "stream",
     "text": [
      "   index     budget                                    genres  \\\n",
      "0      0  237000000  Action Adventure Fantasy Science Fiction   \n",
      "1      1  300000000                  Adventure Fantasy Action   \n",
      "2      2  245000000                    Action Adventure Crime   \n",
      "3      3  250000000               Action Crime Drama Thriller   \n",
      "4      4  260000000          Action Adventure Science Fiction   \n",
      "\n",
      "                                       homepage      id  \\\n",
      "0                   http://www.avatarmovie.com/   19995   \n",
      "1  http://disney.go.com/disneypictures/pirates/     285   \n",
      "2   http://www.sonypictures.com/movies/spectre/  206647   \n",
      "3            http://www.thedarkknightrises.com/   49026   \n",
      "4          http://movies.disney.com/john-carter   49529   \n",
      "\n",
      "                                            keywords original_language  \\\n",
      "0  culture clash future space war space colony so...                en   \n",
      "1  ocean drug abuse exotic island east india trad...                en   \n",
      "2         spy based on novel secret agent sequel mi6                en   \n",
      "3  dc comics crime fighter terrorist secret ident...                en   \n",
      "4  space travel space war dystopia space civiliza...                en   \n",
      "\n",
      "             original_title  \\\n",
      "0                    Avatar   \n",
      "1  Pirates of the Caribbean   \n",
      "2                   Spectre   \n",
      "3     The Dark Knight Rises   \n",
      "4               John Carter   \n",
      "\n",
      "                                            overview  popularity  runtime  \\\n",
      "0  In the 22nd century, a paraplegic Marine is di...  150.437577      162   \n",
      "1   Captain Jack Sparrow searches for the trident...  139.082615      143   \n",
      "2  A cryptic message from Bond's past sends him o...  107.376788      148   \n",
      "3  Following the death of District Attorney Harve...  112.312950      165   \n",
      "4  John Carter is a war-weary, former military ca...   43.926995      132   \n",
      "\n",
      "                           spoken_languages    status  \\\n",
      "0  [{\"iso_639_1\": \"en\", \"name\": \"English\"}]  Released   \n",
      "1  [{\"iso_639_1\": \"en\", \"name\": \"English\"}]  Released   \n",
      "2  [{\"iso_639_1\": \"en\", \"name\": \"English\"}]  Released   \n",
      "3  [{\"iso_639_1\": \"en\", \"name\": \"English\"}]  Released   \n",
      "4  [{\"iso_639_1\": \"en\", \"name\": \"English\"}]  Released   \n",
      "\n",
      "                                tagline  \\\n",
      "0           Enter the World of Pandora.   \n",
      "1                                  None   \n",
      "2                 A Plan No One Escapes   \n",
      "3                       The Legend Ends   \n",
      "4  Lost in Our World, Found in Another.   \n",
      "\n",
      "                                      title  vote_average  vote_count  \\\n",
      "0                                    Avatar           7.2       11800   \n",
      "1  Pirates of the Caribbean: At World's End           6.9        4500   \n",
      "2                                   Spectre           6.3        4466   \n",
      "3                     The Dark Knight Rises           7.6        9106   \n",
      "4                               John Carter           6.1        2124   \n",
      "\n",
      "                                                cast  \\\n",
      "0  Sam Worthington, Zoe Saldana, Sigourney Weaver...   \n",
      "1  Johnny Depp, Orlando Bloom, Keira Knightley, S...   \n",
      "2  Daniel Craig, Christoph Waltz, Léa Seydoux, Ra...   \n",
      "3  Christian Bale, Michael Caine, Gary Oldman, An...   \n",
      "4  Taylor Kitsch, Lynn Collins, Samantha Morton, ...   \n",
      "\n",
      "                                                crew           director  \n",
      "0  James Cameron (Director), James Horner (Compos...      James Cameron  \n",
      "1  Gore Verbinski (Director), Hans Zimmer (Compos...       Rob Marshall  \n",
      "2  Sam Mendes (Director), Thomas Newman (Composer...         Sam Mendes  \n",
      "3  Christopher Nolan (Director), Hans Zimmer (Com...  Christopher Nolan  \n",
      "4  Andrew Stanton (Director), Michael Giacchino (...     Andrew Stanton  \n"
     ]
    }
   ],
   "source": [
    "import pandas as pd\n",
    "\n",
    "# Define the extended data\n",
    "movies_data = {\n",
    "    'index': range(20),\n",
    "    'budget': [\n",
    "        237000000, 300000000, 245000000, 250000000, 260000000,\n",
    "        200000000, 180000000, 150000000, 220000000, 210000000,\n",
    "        250000000, 270000000, 280000000, 290000000, 160000000,\n",
    "        175000000, 190000000, 240000000, 185000000, 155000000\n",
    "    ],\n",
    "    'genres': [\n",
    "        'Action Adventure Fantasy Science Fiction', 'Adventure Fantasy Action', 'Action Adventure Crime', 'Action Crime Drama Thriller', 'Action Adventure Science Fiction',\n",
    "        'Animation Family', 'Comedy Romance', 'Drama Thriller', 'Action Comedy Crime', 'Fantasy Horror Mystery',\n",
    "        'Animation Adventure Family', 'Adventure Drama Fantasy', 'Action Adventure Comedy', 'Science Fiction Thriller', 'Crime Drama Mystery',\n",
    "        'Horror Thriller', 'Adventure Fantasy', 'Action Adventure', 'Action Drama', 'Comedy Drama'\n",
    "    ],\n",
    "    'homepage': [\n",
    "        'http://www.avatarmovie.com/', 'http://disney.go.com/disneypictures/pirates/', 'http://www.sonypictures.com/movies/spectre/', 'http://www.thedarkknightrises.com/', 'http://movies.disney.com/john-carter',\n",
    "        'http://www.toystory3.com/', 'http://www.crazyrichasians.com/', 'http://www.gonetoground.com/', 'http://www.rushhour.com/', 'http://www.harrypotter.com/',\n",
    "        'http://www.findingnemo.com/', 'http://www.lordoftherings.com/', 'http://www.avengers.com/', 'http://www.interstellar.com/', 'http://www.thedeparted.com/',\n",
    "        'http://www.getout.com/', 'http://www.piratesofthecaribbean.com/', 'http://www.madmax.com/', 'http://www.gladiator.com/', 'http://www.forestgump.com/'\n",
    "    ],\n",
    "    'id': [\n",
    "        19995, 285, 206647, 49026, 49529,\n",
    "        10193, 12345, 67890, 23456, 34567,\n",
    "        45678, 56789, 67890, 78901, 89012,\n",
    "        90123, 234567, 345678, 456789, 567890\n",
    "    ],\n",
    "    'keywords': [\n",
    "        'culture clash future space war space colony society', 'ocean drug abuse exotic island east india trading company love of one\\'s life', 'spy based on novel secret agent sequel mi6', 'dc comics crime fighter terrorist secret identity burglar', 'space travel space war dystopia space civilization',\n",
    "        'toys friendship adventure rescue', 'wealth family romance', 'crime thriller suspense', 'comedy action friendship', 'magic wizards school adventure',\n",
    "        'underwater adventure friendship', 'ring quest adventure', 'superheroes save the world', 'space exploration survival', 'undercover police crime thriller',\n",
    "        'horror suspense thriller', 'pirates treasure adventure', 'post-apocalyptic survival', 'roman empire gladiators', 'life journey friendship'\n",
    "    ],\n",
    "    'original_language': ['en'] * 20,\n",
    "    'original_title': [\n",
    "        'Avatar', 'Pirates of the Caribbean', 'Spectre', 'The Dark Knight Rises', 'John Carter',\n",
    "        'Toy Story 3', 'Crazy Rich Asians', 'Gone to Ground', 'Rush Hour', 'Harry Potter',\n",
    "        'Finding Nemo', 'The Lord of the Rings', 'The Avengers', 'Interstellar', 'The Departed',\n",
    "        'Get Out', 'Pirates of the Caribbean: Dead Man\\'s Chest', 'Mad Max: Fury Road', 'Gladiator', 'Forrest Gump'\n",
    "    ],\n",
    "    'overview': [\n",
    "        'In the 22nd century, a paraplegic Marine is dispatched...', 'Captain Jack Sparrow searches for the trident...', 'A cryptic message from Bond\\'s past sends him on a trail...', 'Following the death of District Attorney Harvey Dent...', 'John Carter is a war-weary, former military captain...',\n",
    "        'The toys are mistakenly delivered to a day-care center...', 'This contemporary romantic comedy follows native New Yorker Rachel Chu...', 'A detective tries to solve a series of murders...', 'Two cops team up to take down a drug lord...', 'A young wizard discovers his magical heritage...',\n",
    "        'After his son is captured in the Great Barrier Reef...', 'A meek Hobbit from the Shire and eight companions...', 'Earth\\'s mightiest heroes must come together...', 'A team of explorers travel through a wormhole...', 'An undercover cop and a mole in the police...',\n",
    "        'A young African-American visits his white girlfriend\\'s...', 'Captain Jack Sparrow searches for the heart of Davy Jones...', 'In a post-apocalyptic wasteland, Max teams up...', 'A former Roman General sets out to exact vengeance...', 'The presidencies of Kennedy and Johnson...',\n",
    "    ],\n",
    "    'popularity': [\n",
    "        150.437577, 139.082615, 107.376788, 112.31295, 43.926995,\n",
    "        120.345678, 110.234567, 100.123456, 130.456789, 140.567890,\n",
    "        150.678901, 160.789012, 170.890123, 180.901234, 190.012345,\n",
    "        200.123456, 210.234567, 220.345678, 230.456789, 240.567890\n",
    "    ],\n",
    "    'runtime': [\n",
    "        162, 143, 148, 165, 132,\n",
    "        103, 120, 110, 97, 152,\n",
    "        100, 201, 143, 169, 151,\n",
    "        104, 155, 120, 155, 142\n",
    "    ],\n",
    "    'spoken_languages': [\n",
    "        '[{\"iso_639_1\": \"en\", \"name\": \"English\"}]' for _ in range(20)\n",
    "    ],\n",
    "    'status': ['Released'] * 20,\n",
    "    'tagline': [\n",
    "        'Enter the World of Pandora.', 'None', 'A Plan No One Escapes', 'The Legend Ends', 'Lost in Our World, Found in Another.',\n",
    "        'No toy gets left behind.', 'The only thing crazier than love is family.', 'The hunt is on.', 'The fastest hands in the East...', 'Magic is might.',\n",
    "        'Fish are friends, not food.', 'One ring to rule them all.', 'Avengers Assemble!', 'Mankind was born on Earth...', 'Cops or criminals...',\n",
    "        'Just because you\\'re invited, doesn\\'t mean you\\'re welcome.', 'Captain Jack is back!', 'What a lovely day!', 'What we do in life...', 'Life is like a box of chocolates...'\n",
    "    ],\n",
    "    'title': [\n",
    "        'Avatar', 'Pirates of the Caribbean: At World\\'s End', 'Spectre', 'The Dark Knight Rises', 'John Carter',\n",
    "        'Toy Story 3', 'Crazy Rich Asians', 'Gone to Ground', 'Rush Hour', 'Harry Potter and the Philosopher\\'s Stone',\n",
    "        'Finding Nemo', 'The Lord of the Rings: The Fellowship of the Ring', 'The Avengers', 'Interstellar', 'The Departed',\n",
    "        'Get Out', 'Pirates of the Caribbean: Dead Man\\'s Chest', 'Mad Max: Fury Road', 'Gladiator', 'Forrest Gump'\n",
    "    ],\n",
    "    'vote_average': [\n",
    "        7.2, 6.9, 6.3, 7.6, 6.1,\n",
    "        8.3, 7.5, 6.8, 7.0, 7.8,\n",
    "        8.1, 8.9, 7.7, 8.6, 8.5,\n",
    "        8.2, 7.3, 8.7, 8.6, 8.8\n",
    "    ],\n",
    "    'vote_count': [\n",
    "        11800, 4500, 4466, 9106, 2124,\n",
    "        8956, 7894, 6783, 5672, 9567,\n",
    "        8467, 7356, 9654, 8754, 7456,\n",
    "        9658, 8457, 7654, 6543, 9876\n",
    "    ],\n",
    "    'cast': [\n",
    "        'Sam Worthington, Zoe Saldana, Sigourney Weaver, Stephen Lang, Michelle Rodriguez',\n",
    "        'Johnny Depp, Orlando Bloom, Keira Knightley, Stellan Skarsgård, Geoffrey Rush',\n",
    "        'Daniel Craig, Christoph Waltz, Léa Seydoux, Ralph Fiennes, Monica Bellucci',\n",
    "        'Christian Bale, Michael Caine, Gary Oldman, Anne Hathaway, Tom Hardy',\n",
    "        'Taylor Kitsch, Lynn Collins, Samantha Morton, Willem Dafoe, Thomas Haden Church',\n",
    "        'Tom Hanks, Tim Allen, Joan Cusack, Ned Beatty, Don Rickles',\n",
    "        'Constance Wu, Henry Golding, Michelle Yeoh, Ken Jeong, Awkwafina',\n",
    "        'John Doe, Jane Smith, Michael Brown, Lisa White, Tom Green',\n",
    "        'Jackie Chan, Chris Tucker, Ken Leung, Tom Wilkinson, Elizabeth Peña',\n",
    "        'Daniel Radcliffe, Rupert Grint, Emma Watson, Richard Harris, Maggie Smith',\n",
    "        'Albert Brooks, Ellen DeGeneres, Alexander Gould, Willem Dafoe, Brad Garrett',\n",
    "        'Elijah Wood, Ian McKellen, Viggo Mortensen, Sean Astin, Cate Blanchett',\n",
    "        'Robert Downey Jr., Chris Evans, Mark Ruffalo, Chris Hemsworth, Scarlett Johansson',\n",
    "        'Matthew McConaughey, Anne Hathaway, Jessica Chastain, Bill Irwin, Ellen Burstyn',\n",
    "        'Leonardo DiCaprio, Matt Damon, Jack Nicholson, Mark Wahlberg, Martin Sheen',\n",
    "        'Daniel Kaluuya, Allison Williams, Bradley Whitford, Catherine Keener, Caleb Landry Jones',\n",
    "        'Johnny Depp, Orlando Bloom, Keira Knightley, Bill Nighy, Stellan Skarsgård',\n",
    "        'Tom Hardy, Charlize Theron, Nicholas Hoult, Hugh Keays-Byrne, Josh Helman',\n",
    "        'Russell Crowe, Joaquin Phoenix, Connie Nielsen, Oliver Reed, Richard Harris',\n",
    "        'Tom Hanks, Robin Wright, Gary Sinise, Sally Field, Mykelti Williamson'\n",
    "    ],\n",
    "    'crew': [\n",
    "        'James Cameron (Director), James Horner (Composer), Mauro Fiore (Cinematographer), Joe Letteri (Visual Effects Supervisor), Stephen E. Rivkin (Editor)',\n",
    "        'Gore Verbinski (Director), Hans Zimmer (Composer), Dariusz Wolski (Cinematographer), John Knoll (Visual Effects Supervisor), Craig Wood (Editor)',\n",
    "        'Sam Mendes (Director), Thomas Newman (Composer), Hoyte van Hoytema (Cinematographer), Steve Begg (Visual Effects Supervisor), Lee Smith (Editor)',\n",
    "        'Christopher Nolan (Director), Hans Zimmer (Composer), Wally Pfister (Cinematographer), Paul Franklin (Visual Effects Supervisor), Lee Smith (Editor)',\n",
    "        'Andrew Stanton (Director), Michael Giacchino (Composer), Daniel Mindel (Cinematographer), Peter Chiang (Visual Effects Supervisor), Eric Zumbrunnen (Editor)',\n",
    "        'Lee Unkrich (Director), Randy Newman (Composer), Jeremy Lasky (Cinematographer), Michael Fong (Visual Effects Supervisor), Ken Schretzmann (Editor)',\n",
    "        'Jon M. Chu (Director), Brian Tyler (Composer), Vanja Černjul (Cinematographer), Chris Godfrey (Visual Effects Supervisor), Myron Kerstein (Editor)',\n",
    "        'Jane Doe (Director), John Smith (Composer), Mary Johnson (Cinematographer), Robert Brown (Visual Effects Supervisor), Susan Green (Editor)',\n",
    "        'Brett Ratner (Director), Lalo Schifrin (Composer), Adam Greenberg (Cinematographer), Hoyt Yeatman (Visual Effects Supervisor), Mark Helfrich (Editor)',\n",
    "        'Chris Columbus (Director), John Williams (Composer), John Seale (Cinematographer), Robert Legato (Visual Effects Supervisor), Richard Francis-Bruce (Editor)',\n",
    "        'Andrew Stanton (Director), Thomas Newman (Composer), Sharon Calahan (Cinematographer), John Lasseter (Visual Effects Supervisor), David Ian Salter (Editor)',\n",
    "        'Peter Jackson (Director), Howard Shore (Composer), Andrew Lesnie (Cinematographer), Jim Rygiel (Visual Effects Supervisor), Michael Horton (Editor)',\n",
    "        'Joss Whedon (Director), Alan Silvestri (Composer), Seamus McGarvey (Cinematographer), Janek Sirrs (Visual Effects Supervisor), Jeffrey Ford (Editor)',\n",
    "        'Christopher Nolan (Director), Hans Zimmer (Composer), Hoyte van Hoytema (Cinematographer), Paul Franklin (Visual Effects Supervisor), Lee Smith (Editor)',\n",
    "        'Martin Scorsese (Director), Howard Shore (Composer), Michael Ballhaus (Cinematographer), Robert Legato (Visual Effects Supervisor), Thelma Schoonmaker (Editor)',\n",
    "        'Jordan Peele (Director), Michael Abels (Composer), Toby Oliver (Cinematographer), Adam H. Green (Visual Effects Supervisor), Gregory Plotkin (Editor)',\n",
    "        'Gore Verbinski (Director), Hans Zimmer (Composer), Dariusz Wolski (Cinematographer), John Knoll (Visual Effects Supervisor), Craig Wood (Editor)',\n",
    "        'George Miller (Director), Junkie XL (Composer), John Seale (Cinematographer), Andrew Jackson (Visual Effects Supervisor), Margaret Sixel (Editor)',\n",
    "        'Ridley Scott (Director), Hans Zimmer (Composer), John Mathieson (Cinematographer), John Nelson (Visual Effects Supervisor), Pietro Scalia (Editor)',\n",
    "        'Robert Zemeckis (Director), Alan Silvestri (Composer), Don Burgess (Cinematographer), Ken Ralston (Visual Effects Supervisor), Arthur Schmidt (Editor)'\n",
    "    ],\n",
    "    'director': [\n",
    "        'James Cameron', 'Rob Marshall', 'Sam Mendes', 'Christopher Nolan', 'Andrew Stanton',\n",
    "        'Lee Unkrich', 'Jon M. Chu', 'Jaume Collet-Serra', 'Brett Ratner', 'Chris Columbus',\n",
    "        'Andrew Stanton', 'Peter Jackson', 'Joss Whedon', 'Christopher Nolan', 'Martin Scorsese',\n",
    "        'Jordan Peele', 'Gore Verbinski', 'George Miller', 'Ridley Scott', 'Robert Zemeckis'\n",
    "    ]\n",
    "}\n",
    "\n",
    "# Create the DataFrame\n",
    "df = pd.DataFrame(movies_data)\n",
    "\n",
    "df.to_csv('movies_data.csv', index=False)\n",
    "\n",
    "# Display the DataFrame\n",
    "print(df.head())\n"
   ]
  },
  {
   "cell_type": "code",
   "execution_count": 5,
   "id": "1188a78c",
   "metadata": {},
   "outputs": [
    {
     "data": {
      "text/html": [
       "<div>\n",
       "<style scoped>\n",
       "    .dataframe tbody tr th:only-of-type {\n",
       "        vertical-align: middle;\n",
       "    }\n",
       "\n",
       "    .dataframe tbody tr th {\n",
       "        vertical-align: top;\n",
       "    }\n",
       "\n",
       "    .dataframe thead th {\n",
       "        text-align: right;\n",
       "    }\n",
       "</style>\n",
       "<table border=\"1\" class=\"dataframe\">\n",
       "  <thead>\n",
       "    <tr style=\"text-align: right;\">\n",
       "      <th></th>\n",
       "      <th>index</th>\n",
       "      <th>budget</th>\n",
       "      <th>genres</th>\n",
       "      <th>homepage</th>\n",
       "      <th>id</th>\n",
       "      <th>keywords</th>\n",
       "      <th>original_language</th>\n",
       "      <th>original_title</th>\n",
       "      <th>overview</th>\n",
       "      <th>popularity</th>\n",
       "      <th>runtime</th>\n",
       "      <th>spoken_languages</th>\n",
       "      <th>status</th>\n",
       "      <th>tagline</th>\n",
       "      <th>title</th>\n",
       "      <th>vote_average</th>\n",
       "      <th>vote_count</th>\n",
       "      <th>cast</th>\n",
       "      <th>crew</th>\n",
       "      <th>director</th>\n",
       "    </tr>\n",
       "  </thead>\n",
       "  <tbody>\n",
       "    <tr>\n",
       "      <th>0</th>\n",
       "      <td>0</td>\n",
       "      <td>237000000</td>\n",
       "      <td>Action Adventure Fantasy Science Fiction</td>\n",
       "      <td>http://www.avatarmovie.com/</td>\n",
       "      <td>19995</td>\n",
       "      <td>culture clash future space war space colony so...</td>\n",
       "      <td>en</td>\n",
       "      <td>Avatar</td>\n",
       "      <td>In the 22nd century, a paraplegic Marine is di...</td>\n",
       "      <td>150.437577</td>\n",
       "      <td>162</td>\n",
       "      <td>[{\"iso_639_1\": \"en\", \"name\": \"English\"}]</td>\n",
       "      <td>Released</td>\n",
       "      <td>Enter the World of Pandora.</td>\n",
       "      <td>Avatar</td>\n",
       "      <td>7.2</td>\n",
       "      <td>11800</td>\n",
       "      <td>Sam Worthington, Zoe Saldana, Sigourney Weaver...</td>\n",
       "      <td>James Cameron (Director), James Horner (Compos...</td>\n",
       "      <td>James Cameron</td>\n",
       "    </tr>\n",
       "    <tr>\n",
       "      <th>1</th>\n",
       "      <td>1</td>\n",
       "      <td>300000000</td>\n",
       "      <td>Adventure Fantasy Action</td>\n",
       "      <td>http://disney.go.com/disneypictures/pirates/</td>\n",
       "      <td>285</td>\n",
       "      <td>ocean drug abuse exotic island east india trad...</td>\n",
       "      <td>en</td>\n",
       "      <td>Pirates of the Caribbean</td>\n",
       "      <td>Captain Jack Sparrow searches for the trident...</td>\n",
       "      <td>139.082615</td>\n",
       "      <td>143</td>\n",
       "      <td>[{\"iso_639_1\": \"en\", \"name\": \"English\"}]</td>\n",
       "      <td>Released</td>\n",
       "      <td>NaN</td>\n",
       "      <td>Pirates of the Caribbean: At World's End</td>\n",
       "      <td>6.9</td>\n",
       "      <td>4500</td>\n",
       "      <td>Johnny Depp, Orlando Bloom, Keira Knightley, S...</td>\n",
       "      <td>Gore Verbinski (Director), Hans Zimmer (Compos...</td>\n",
       "      <td>Rob Marshall</td>\n",
       "    </tr>\n",
       "    <tr>\n",
       "      <th>2</th>\n",
       "      <td>2</td>\n",
       "      <td>245000000</td>\n",
       "      <td>Action Adventure Crime</td>\n",
       "      <td>http://www.sonypictures.com/movies/spectre/</td>\n",
       "      <td>206647</td>\n",
       "      <td>spy based on novel secret agent sequel mi6</td>\n",
       "      <td>en</td>\n",
       "      <td>Spectre</td>\n",
       "      <td>A cryptic message from Bond's past sends him o...</td>\n",
       "      <td>107.376788</td>\n",
       "      <td>148</td>\n",
       "      <td>[{\"iso_639_1\": \"en\", \"name\": \"English\"}]</td>\n",
       "      <td>Released</td>\n",
       "      <td>A Plan No One Escapes</td>\n",
       "      <td>Spectre</td>\n",
       "      <td>6.3</td>\n",
       "      <td>4466</td>\n",
       "      <td>Daniel Craig, Christoph Waltz, Léa Seydoux, Ra...</td>\n",
       "      <td>Sam Mendes (Director), Thomas Newman (Composer...</td>\n",
       "      <td>Sam Mendes</td>\n",
       "    </tr>\n",
       "    <tr>\n",
       "      <th>3</th>\n",
       "      <td>3</td>\n",
       "      <td>250000000</td>\n",
       "      <td>Action Crime Drama Thriller</td>\n",
       "      <td>http://www.thedarkknightrises.com/</td>\n",
       "      <td>49026</td>\n",
       "      <td>dc comics crime fighter terrorist secret ident...</td>\n",
       "      <td>en</td>\n",
       "      <td>The Dark Knight Rises</td>\n",
       "      <td>Following the death of District Attorney Harve...</td>\n",
       "      <td>112.312950</td>\n",
       "      <td>165</td>\n",
       "      <td>[{\"iso_639_1\": \"en\", \"name\": \"English\"}]</td>\n",
       "      <td>Released</td>\n",
       "      <td>The Legend Ends</td>\n",
       "      <td>The Dark Knight Rises</td>\n",
       "      <td>7.6</td>\n",
       "      <td>9106</td>\n",
       "      <td>Christian Bale, Michael Caine, Gary Oldman, An...</td>\n",
       "      <td>Christopher Nolan (Director), Hans Zimmer (Com...</td>\n",
       "      <td>Christopher Nolan</td>\n",
       "    </tr>\n",
       "    <tr>\n",
       "      <th>4</th>\n",
       "      <td>4</td>\n",
       "      <td>260000000</td>\n",
       "      <td>Action Adventure Science Fiction</td>\n",
       "      <td>http://movies.disney.com/john-carter</td>\n",
       "      <td>49529</td>\n",
       "      <td>space travel space war dystopia space civiliza...</td>\n",
       "      <td>en</td>\n",
       "      <td>John Carter</td>\n",
       "      <td>John Carter is a war-weary, former military ca...</td>\n",
       "      <td>43.926995</td>\n",
       "      <td>132</td>\n",
       "      <td>[{\"iso_639_1\": \"en\", \"name\": \"English\"}]</td>\n",
       "      <td>Released</td>\n",
       "      <td>Lost in Our World, Found in Another.</td>\n",
       "      <td>John Carter</td>\n",
       "      <td>6.1</td>\n",
       "      <td>2124</td>\n",
       "      <td>Taylor Kitsch, Lynn Collins, Samantha Morton, ...</td>\n",
       "      <td>Andrew Stanton (Director), Michael Giacchino (...</td>\n",
       "      <td>Andrew Stanton</td>\n",
       "    </tr>\n",
       "  </tbody>\n",
       "</table>\n",
       "</div>"
      ],
      "text/plain": [
       "   index     budget                                    genres  \\\n",
       "0      0  237000000  Action Adventure Fantasy Science Fiction   \n",
       "1      1  300000000                  Adventure Fantasy Action   \n",
       "2      2  245000000                    Action Adventure Crime   \n",
       "3      3  250000000               Action Crime Drama Thriller   \n",
       "4      4  260000000          Action Adventure Science Fiction   \n",
       "\n",
       "                                       homepage      id  \\\n",
       "0                   http://www.avatarmovie.com/   19995   \n",
       "1  http://disney.go.com/disneypictures/pirates/     285   \n",
       "2   http://www.sonypictures.com/movies/spectre/  206647   \n",
       "3            http://www.thedarkknightrises.com/   49026   \n",
       "4          http://movies.disney.com/john-carter   49529   \n",
       "\n",
       "                                            keywords original_language  \\\n",
       "0  culture clash future space war space colony so...                en   \n",
       "1  ocean drug abuse exotic island east india trad...                en   \n",
       "2         spy based on novel secret agent sequel mi6                en   \n",
       "3  dc comics crime fighter terrorist secret ident...                en   \n",
       "4  space travel space war dystopia space civiliza...                en   \n",
       "\n",
       "             original_title  \\\n",
       "0                    Avatar   \n",
       "1  Pirates of the Caribbean   \n",
       "2                   Spectre   \n",
       "3     The Dark Knight Rises   \n",
       "4               John Carter   \n",
       "\n",
       "                                            overview  popularity  runtime  \\\n",
       "0  In the 22nd century, a paraplegic Marine is di...  150.437577      162   \n",
       "1   Captain Jack Sparrow searches for the trident...  139.082615      143   \n",
       "2  A cryptic message from Bond's past sends him o...  107.376788      148   \n",
       "3  Following the death of District Attorney Harve...  112.312950      165   \n",
       "4  John Carter is a war-weary, former military ca...   43.926995      132   \n",
       "\n",
       "                           spoken_languages    status  \\\n",
       "0  [{\"iso_639_1\": \"en\", \"name\": \"English\"}]  Released   \n",
       "1  [{\"iso_639_1\": \"en\", \"name\": \"English\"}]  Released   \n",
       "2  [{\"iso_639_1\": \"en\", \"name\": \"English\"}]  Released   \n",
       "3  [{\"iso_639_1\": \"en\", \"name\": \"English\"}]  Released   \n",
       "4  [{\"iso_639_1\": \"en\", \"name\": \"English\"}]  Released   \n",
       "\n",
       "                                tagline  \\\n",
       "0           Enter the World of Pandora.   \n",
       "1                                   NaN   \n",
       "2                 A Plan No One Escapes   \n",
       "3                       The Legend Ends   \n",
       "4  Lost in Our World, Found in Another.   \n",
       "\n",
       "                                      title  vote_average  vote_count  \\\n",
       "0                                    Avatar           7.2       11800   \n",
       "1  Pirates of the Caribbean: At World's End           6.9        4500   \n",
       "2                                   Spectre           6.3        4466   \n",
       "3                     The Dark Knight Rises           7.6        9106   \n",
       "4                               John Carter           6.1        2124   \n",
       "\n",
       "                                                cast  \\\n",
       "0  Sam Worthington, Zoe Saldana, Sigourney Weaver...   \n",
       "1  Johnny Depp, Orlando Bloom, Keira Knightley, S...   \n",
       "2  Daniel Craig, Christoph Waltz, Léa Seydoux, Ra...   \n",
       "3  Christian Bale, Michael Caine, Gary Oldman, An...   \n",
       "4  Taylor Kitsch, Lynn Collins, Samantha Morton, ...   \n",
       "\n",
       "                                                crew           director  \n",
       "0  James Cameron (Director), James Horner (Compos...      James Cameron  \n",
       "1  Gore Verbinski (Director), Hans Zimmer (Compos...       Rob Marshall  \n",
       "2  Sam Mendes (Director), Thomas Newman (Composer...         Sam Mendes  \n",
       "3  Christopher Nolan (Director), Hans Zimmer (Com...  Christopher Nolan  \n",
       "4  Andrew Stanton (Director), Michael Giacchino (...     Andrew Stanton  "
      ]
     },
     "execution_count": 5,
     "metadata": {},
     "output_type": "execute_result"
    }
   ],
   "source": [
    "movies_data = pd.read_csv('movies_data.csv')\n",
    "\n",
    "movies_data.head()"
   ]
  },
  {
   "cell_type": "code",
   "execution_count": 6,
   "id": "176d61b7",
   "metadata": {},
   "outputs": [
    {
     "data": {
      "text/plain": [
       "(20, 20)"
      ]
     },
     "execution_count": 6,
     "metadata": {},
     "output_type": "execute_result"
    }
   ],
   "source": [
    "movies_data.shape"
   ]
  },
  {
   "cell_type": "code",
   "execution_count": 7,
   "id": "d67dc587",
   "metadata": {},
   "outputs": [
    {
     "name": "stdout",
     "output_type": "stream",
     "text": [
      "['genres', 'keywords', 'tagline', 'cast', 'director']\n"
     ]
    }
   ],
   "source": [
    "selected_features = ['genres','keywords','tagline','cast','director']\n",
    "print(selected_features)"
   ]
  },
  {
   "cell_type": "code",
   "execution_count": 8,
   "id": "2d6b8e55",
   "metadata": {},
   "outputs": [],
   "source": [
    "for feature in selected_features:\n",
    "    movies_data[feature] = movies_data[feature].fillna('')"
   ]
  },
  {
   "cell_type": "code",
   "execution_count": 9,
   "id": "d3a34845",
   "metadata": {},
   "outputs": [],
   "source": [
    "combined_features = movies_data['genres'] + ' ' + movies_data['keywords'] + ' ' + movies_data['tagline'] + ' '+movies_data['cast']+' ' + movies_data['director']"
   ]
  },
  {
   "cell_type": "code",
   "execution_count": 10,
   "id": "cbdeaa7b",
   "metadata": {},
   "outputs": [
    {
     "name": "stdout",
     "output_type": "stream",
     "text": [
      "0     Action Adventure Fantasy Science Fiction cultu...\n",
      "1     Adventure Fantasy Action ocean drug abuse exot...\n",
      "2     Action Adventure Crime spy based on novel secr...\n",
      "3     Action Crime Drama Thriller dc comics crime fi...\n",
      "4     Action Adventure Science Fiction space travel ...\n",
      "5     Animation Family toys friendship adventure res...\n",
      "6     Comedy Romance wealth family romance The only ...\n",
      "7     Drama Thriller crime thriller suspense The hun...\n",
      "8     Action Comedy Crime comedy action friendship T...\n",
      "9     Fantasy Horror Mystery magic wizards school ad...\n",
      "10    Animation Adventure Family underwater adventur...\n",
      "11    Adventure Drama Fantasy ring quest adventure O...\n",
      "12    Action Adventure Comedy superheroes save the w...\n",
      "13    Science Fiction Thriller space exploration sur...\n",
      "14    Crime Drama Mystery undercover police crime th...\n",
      "15    Horror Thriller horror suspense thriller Just ...\n",
      "16    Adventure Fantasy pirates treasure adventure C...\n",
      "17    Action Adventure post-apocalyptic survival Wha...\n",
      "18    Action Drama roman empire gladiators What we d...\n",
      "19    Comedy Drama life journey friendship Life is l...\n",
      "dtype: object\n"
     ]
    }
   ],
   "source": [
    "print(combined_features)"
   ]
  },
  {
   "cell_type": "code",
   "execution_count": 12,
   "id": "04f134fe",
   "metadata": {},
   "outputs": [],
   "source": [
    "vectorizer = TfidfVectorizer()"
   ]
  },
  {
   "cell_type": "code",
   "execution_count": 13,
   "id": "2e448077",
   "metadata": {},
   "outputs": [],
   "source": [
    "features_vectors = vectorizer.fit_transform(combined_features)"
   ]
  },
  {
   "cell_type": "code",
   "execution_count": 14,
   "id": "bfe02704",
   "metadata": {},
   "outputs": [
    {
     "name": "stdout",
     "output_type": "stream",
     "text": [
      "  (0, 41)\t0.1973277131527334\n",
      "  (0, 151)\t0.1973277131527334\n",
      "  (0, 255)\t0.1973277131527334\n",
      "  (0, 205)\t0.1734540802686833\n",
      "  (0, 177)\t0.1973277131527334\n",
      "  (0, 288)\t0.1973277131527334\n",
      "  (0, 322)\t0.1973277131527334\n",
      "  (0, 279)\t0.1973277131527334\n",
      "  (0, 263)\t0.1973277131527334\n",
      "  (0, 341)\t0.1973277131527334\n",
      "  (0, 335)\t0.1973277131527334\n",
      "  (0, 265)\t0.1734540802686833\n",
      "  (0, 232)\t0.1973277131527334\n",
      "  (0, 223)\t0.15651546817187034\n",
      "  (0, 334)\t0.15651546817187034\n",
      "  (0, 295)\t0.12356550130634981\n",
      "  (0, 98)\t0.1973277131527334\n",
      "  (0, 283)\t0.1973277131527334\n",
      "  (0, 59)\t0.1973277131527334\n",
      "  (0, 317)\t0.1734540802686833\n",
      "  (0, 284)\t0.3130309363437407\n",
      "  (0, 115)\t0.1973277131527334\n",
      "  (0, 56)\t0.1973277131527334\n",
      "  (0, 72)\t0.1973277131527334\n",
      "  (0, 106)\t0.15651546817187034\n",
      "  :\t:\n",
      "  (18, 87)\t0.14276545817787195\n",
      "  (18, 183)\t0.1808352840335455\n",
      "  (18, 1)\t0.11850139469795351\n",
      "  (19, 340)\t0.22498573328647298\n",
      "  (19, 331)\t0.22498573328647298\n",
      "  (19, 211)\t0.22498573328647298\n",
      "  (19, 107)\t0.22498573328647298\n",
      "  (19, 264)\t0.22498573328647298\n",
      "  (19, 280)\t0.22498573328647298\n",
      "  (19, 336)\t0.22498573328647298\n",
      "  (19, 254)\t0.22498573328647298\n",
      "  (19, 48)\t0.22498573328647298\n",
      "  (19, 30)\t0.22498573328647298\n",
      "  (19, 184)\t0.22498573328647298\n",
      "  (19, 166)\t0.22498573328647298\n",
      "  (19, 253)\t0.1977659033152378\n",
      "  (19, 146)\t0.15123329663074453\n",
      "  (19, 61)\t0.16347297318189788\n",
      "  (19, 129)\t0.1977659033152378\n",
      "  (19, 114)\t0.16347297318189788\n",
      "  (19, 303)\t0.1408847975590835\n",
      "  (19, 117)\t0.1977659033152378\n",
      "  (19, 87)\t0.1408847975590835\n",
      "  (19, 183)\t0.35690625320395947\n",
      "  (19, 223)\t0.17845312660197973\n"
     ]
    }
   ],
   "source": [
    "print(features_vectors)"
   ]
  },
  {
   "cell_type": "markdown",
   "id": "e7f31913",
   "metadata": {},
   "source": [
    "### Cosine Similarity"
   ]
  },
  {
   "cell_type": "code",
   "execution_count": 15,
   "id": "14d99d71",
   "metadata": {},
   "outputs": [],
   "source": [
    "cosine_similarity = cosine_similarity(features_vectors)"
   ]
  },
  {
   "cell_type": "code",
   "execution_count": 16,
   "id": "5514e2b8",
   "metadata": {},
   "outputs": [
    {
     "name": "stdout",
     "output_type": "stream",
     "text": [
      "[[1.         0.06514035 0.05165713 0.0279341  0.24765026 0.00953575\n",
      "  0.04671642 0.01832211 0.0585377  0.0293159  0.01927626 0.03614704\n",
      "  0.06809102 0.11280878 0.         0.         0.04299517 0.02251505\n",
      "  0.01215405 0.02793067]\n",
      " [0.06514035 1.         0.0488415  0.01215981 0.01858372 0.01017579\n",
      "  0.03306962 0.         0.06192108 0.03128359 0.02057009 0.06599501\n",
      "  0.02345272 0.         0.         0.         0.3663506  0.02402626\n",
      "  0.04317309 0.08941617]\n",
      " [0.05165713 0.0488415  1.         0.08648554 0.01834478 0.04588361\n",
      "  0.         0.05320629 0.04618906 0.03907228 0.02030561 0.04570533\n",
      "  0.02315117 0.02970818 0.04007632 0.02301015 0.02216679 0.02371734\n",
      "  0.01280307 0.        ]\n",
      " [0.0279341  0.01215981 0.08648554 1.         0.01047065 0.01870261\n",
      "  0.01703568 0.19012786 0.12544223 0.         0.         0.01734923\n",
      "  0.03239333 0.17201806 0.12090942 0.03398764 0.         0.07190246\n",
      "  0.03227458 0.07487276]\n",
      " [0.24765026 0.01858372 0.01834478 0.01047065 1.         0.00876224\n",
      "  0.         0.         0.07303873 0.00872795 0.1441038  0.01625635\n",
      "  0.04629813 0.12957258 0.         0.         0.01933614 0.02068869\n",
      "  0.06318339 0.        ]\n",
      " [0.00953575 0.01017579 0.04588361 0.01870261 0.00876224 1.\n",
      "  0.05706644 0.02071882 0.04598002 0.01074093 0.11891364 0.02000563\n",
      "  0.01105797 0.         0.         0.         0.02379574 0.03183992\n",
      "  0.         0.08498039]\n",
      " [0.04671642 0.03306962 0.         0.01703568 0.         0.05706644\n",
      "  1.         0.04061866 0.11893644 0.02041243 0.05767914 0.\n",
      "  0.04279155 0.         0.         0.         0.02261113 0.\n",
      "  0.         0.04480403]\n",
      " [0.01832211 0.         0.05320629 0.19012786 0.         0.02071882\n",
      "  0.04061866 1.         0.08634828 0.06444747 0.         0.01921955\n",
      "  0.02124694 0.08245429 0.11111709 0.10749632 0.02634247 0.02176654\n",
      "  0.02116905 0.06585221]\n",
      " [0.0585377  0.06192108 0.04618906 0.12544223 0.07303873 0.04598002\n",
      "  0.11893644 0.08634828 1.         0.03131775 0.02666704 0.\n",
      "  0.18647922 0.         0.04318011 0.         0.         0.04895517\n",
      "  0.05971326 0.09956432]\n",
      " [0.0293159  0.03128359 0.03907228 0.         0.00872795 0.01074093\n",
      "  0.02041243 0.06444747 0.03131775 1.         0.0217125  0.0407155\n",
      "  0.07501062 0.         0.03664034 0.08504072 0.07315561 0.01128408\n",
      "  0.07830904 0.02259513]\n",
      " [0.01927626 0.02057009 0.02030561 0.         0.1441038  0.11891364\n",
      "  0.05767914 0.         0.02666704 0.0217125  1.         0.04044086\n",
      "  0.0223534  0.03958813 0.         0.         0.04810245 0.02290006\n",
      "  0.         0.02678876]\n",
      " [0.03614704 0.06599501 0.04570533 0.01734923 0.01625635 0.02000563\n",
      "  0.         0.01921955 0.         0.0407155  0.04044086 1.\n",
      "  0.02051557 0.         0.01731672 0.         0.06717492 0.02101729\n",
      "  0.01850495 0.01826118]\n",
      " [0.06809102 0.02345272 0.02315117 0.03239333 0.04629813 0.01105797\n",
      "  0.04279155 0.02124694 0.18647922 0.07501062 0.0223534  0.02051557\n",
      "  1.         0.         0.03772189 0.         0.02440229 0.02610921\n",
      "  0.01409424 0.06695904]\n",
      " [0.11280878 0.         0.02970818 0.17201806 0.12957258 0.\n",
      "  0.         0.08245429 0.         0.         0.03958813 0.\n",
      "  0.         1.         0.02189944 0.03612195 0.04321672 0.04114824\n",
      "  0.         0.        ]\n",
      " [0.         0.         0.04007632 0.12090942 0.         0.\n",
      "  0.         0.11111709 0.04318011 0.03664034 0.         0.01731672\n",
      "  0.03772189 0.02189944 1.         0.03392395 0.04058701 0.\n",
      "  0.01907322 0.01882196]\n",
      " [0.         0.         0.02301015 0.03398764 0.         0.\n",
      "  0.         0.10749632 0.         0.08504072 0.         0.\n",
      "  0.         0.03612195 0.03392395 1.         0.         0.\n",
      "  0.         0.        ]\n",
      " [0.04299517 0.3663506  0.02216679 0.         0.01933614 0.02379574\n",
      "  0.02261113 0.02634247 0.         0.07315561 0.04810245 0.06717492\n",
      "  0.02440229 0.04321672 0.04058701 0.         1.         0.02499905\n",
      "  0.         0.02502893]\n",
      " [0.02251505 0.02402626 0.02371734 0.07190246 0.02068869 0.03183992\n",
      "  0.         0.02176654 0.04895517 0.01128408 0.02290006 0.02101729\n",
      "  0.02610921 0.04114824 0.         0.         0.02499905 1.\n",
      "  0.055735   0.02068118]\n",
      " [0.01215405 0.04317309 0.01280307 0.03227458 0.06318339 0.\n",
      "  0.         0.02116905 0.05971326 0.07830904 0.         0.01850495\n",
      "  0.01409424 0.         0.01907322 0.         0.         0.055735\n",
      "  1.         0.08465473]\n",
      " [0.02793067 0.08941617 0.         0.07487276 0.         0.08498039\n",
      "  0.04480403 0.06585221 0.09956432 0.02259513 0.02678876 0.01826118\n",
      "  0.06695904 0.         0.01882196 0.         0.02502893 0.02068118\n",
      "  0.08465473 1.        ]]\n"
     ]
    }
   ],
   "source": [
    "print(cosine_similarity)"
   ]
  },
  {
   "cell_type": "code",
   "execution_count": 17,
   "id": "242da7bf",
   "metadata": {},
   "outputs": [
    {
     "data": {
      "text/plain": [
       "(20, 20)"
      ]
     },
     "execution_count": 17,
     "metadata": {},
     "output_type": "execute_result"
    }
   ],
   "source": [
    "cosine_similarity.shape"
   ]
  },
  {
   "cell_type": "code",
   "execution_count": 25,
   "id": "c8853a28",
   "metadata": {},
   "outputs": [
    {
     "name": "stdout",
     "output_type": "stream",
     "text": [
      "Enter your movie name:Rush Hour\n"
     ]
    }
   ],
   "source": [
    "movie_name = input(\"Enter your movie name:\")"
   ]
  },
  {
   "cell_type": "code",
   "execution_count": 26,
   "id": "3a5cd485",
   "metadata": {},
   "outputs": [
    {
     "name": "stdout",
     "output_type": "stream",
     "text": [
      "['Avatar', \"Pirates of the Caribbean: At World's End\", 'Spectre', 'The Dark Knight Rises', 'John Carter', 'Toy Story 3', 'Crazy Rich Asians', 'Gone to Ground', 'Rush Hour', \"Harry Potter and the Philosopher's Stone\", 'Finding Nemo', 'The Lord of the Rings: The Fellowship of the Ring', 'The Avengers', 'Interstellar', 'The Departed', 'Get Out', \"Pirates of the Caribbean: Dead Man's Chest\", 'Mad Max: Fury Road', 'Gladiator', 'Forrest Gump']\n"
     ]
    }
   ],
   "source": [
    "list_of_all_titles = movies_data['title'].tolist()\n",
    "print(list_of_all_titles)"
   ]
  },
  {
   "cell_type": "code",
   "execution_count": 27,
   "id": "c958d642",
   "metadata": {},
   "outputs": [
    {
     "name": "stdout",
     "output_type": "stream",
     "text": [
      "['Rush Hour']\n"
     ]
    }
   ],
   "source": [
    "find_close_match = difflib.get_close_matches(movie_name, list_of_all_titles)\n",
    "print(find_close_match)"
   ]
  },
  {
   "cell_type": "code",
   "execution_count": 28,
   "id": "98595d18",
   "metadata": {},
   "outputs": [
    {
     "name": "stdout",
     "output_type": "stream",
     "text": [
      "Rush Hour\n"
     ]
    }
   ],
   "source": [
    "close_match = find_close_match[0]\n",
    "print(close_match)"
   ]
  },
  {
   "cell_type": "code",
   "execution_count": 29,
   "id": "83e3d756",
   "metadata": {},
   "outputs": [
    {
     "name": "stdout",
     "output_type": "stream",
     "text": [
      "8\n"
     ]
    }
   ],
   "source": [
    "#index of the movie with it's title\n",
    "\n",
    "index_of_the_movie = movies_data[movies_data.title == close_match]['index'].values[0]\n",
    "print(index_of_the_movie)"
   ]
  },
  {
   "cell_type": "code",
   "execution_count": 30,
   "id": "fe25081d",
   "metadata": {},
   "outputs": [],
   "source": [
    "#getting similar movies"
   ]
  },
  {
   "cell_type": "code",
   "execution_count": 31,
   "id": "65290484",
   "metadata": {
    "scrolled": false
   },
   "outputs": [
    {
     "name": "stdout",
     "output_type": "stream",
     "text": [
      "[(0, 0.05853770221702152), (1, 0.06192108165289687), (2, 0.04618906227688102), (3, 0.12544223455444223), (4, 0.07303872545049542), (5, 0.04598001955294852), (6, 0.11893644126247119), (7, 0.08634828015286655), (8, 1.0000000000000002), (9, 0.03131775297235754), (10, 0.02666703879154261), (11, 0.0), (12, 0.1864792150244781), (13, 0.0), (14, 0.04318011009397273), (15, 0.0), (16, 0.0), (17, 0.04895516634837631), (18, 0.059713262849637475), (19, 0.09956431898734751)]\n"
     ]
    }
   ],
   "source": [
    "similarity_score = list(enumerate(cosine_similarity[index_of_the_movie]))\n",
    "print(similarity_score)"
   ]
  },
  {
   "cell_type": "code",
   "execution_count": 32,
   "id": "82486d26",
   "metadata": {},
   "outputs": [
    {
     "data": {
      "text/plain": [
       "20"
      ]
     },
     "execution_count": 32,
     "metadata": {},
     "output_type": "execute_result"
    }
   ],
   "source": [
    "len(similarity_score)"
   ]
  },
  {
   "cell_type": "code",
   "execution_count": 33,
   "id": "6d9da94a",
   "metadata": {},
   "outputs": [],
   "source": [
    "# sorting the movies based on their similarity score\n"
   ]
  },
  {
   "cell_type": "code",
   "execution_count": 35,
   "id": "b5c1ca82",
   "metadata": {},
   "outputs": [
    {
     "name": "stdout",
     "output_type": "stream",
     "text": [
      "[(8, 1.0000000000000002), (12, 0.1864792150244781), (3, 0.12544223455444223), (6, 0.11893644126247119), (19, 0.09956431898734751), (7, 0.08634828015286655), (4, 0.07303872545049542), (1, 0.06192108165289687), (18, 0.059713262849637475), (0, 0.05853770221702152), (17, 0.04895516634837631), (2, 0.04618906227688102), (5, 0.04598001955294852), (14, 0.04318011009397273), (9, 0.03131775297235754), (10, 0.02666703879154261), (11, 0.0), (13, 0.0), (15, 0.0), (16, 0.0)]\n"
     ]
    }
   ],
   "source": [
    "sorted_similar_movies = sorted(similarity_score,key = lambda x:x[1], reverse = True)\n",
    "print(sorted_similar_movies)"
   ]
  },
  {
   "cell_type": "code",
   "execution_count": 36,
   "id": "10435630",
   "metadata": {},
   "outputs": [],
   "source": [
    "#Print the name of similar movies based in index"
   ]
  },
  {
   "cell_type": "code",
   "execution_count": 37,
   "id": "dfc05a1d",
   "metadata": {},
   "outputs": [
    {
     "name": "stdout",
     "output_type": "stream",
     "text": [
      "Moves suggested for you: \n",
      "\n",
      "1 . Rush Hour\n",
      "2 . The Avengers\n",
      "3 . The Dark Knight Rises\n",
      "4 . Crazy Rich Asians\n",
      "5 . Forrest Gump\n",
      "6 . Gone to Ground\n",
      "7 . John Carter\n",
      "8 . Pirates of the Caribbean: At World's End\n",
      "9 . Gladiator\n"
     ]
    }
   ],
   "source": [
    "print('Moves suggested for you: \\n')\n",
    "\n",
    "i = 1\n",
    "for movie in sorted_similar_movies:\n",
    "    index = movie[0]\n",
    "    title_from_index = movies_data[movies_data.index == index]['title'].values[0]\n",
    "    if(i<10):\n",
    "        print(i,'.', title_from_index)\n",
    "        i+=1"
   ]
  },
  {
   "cell_type": "markdown",
   "id": "f06d1245",
   "metadata": {},
   "source": [
    "### Building Movie Recommendation System"
   ]
  },
  {
   "cell_type": "code",
   "execution_count": null,
   "id": "ced5f8c1",
   "metadata": {},
   "outputs": [],
   "source": [
    "movie_name = input('Enter Your Favourite Movie Name: ')\n",
    "list_of_all_titles = movies_data['title'].tolist()\n",
    "find_close_match = difflib.get_close_matches(movie_name, list_of_all_titles)\n",
    "close_match = find_close_match[0]\n",
    "index_of_the_movie = movies_data[movies_data.title == close_match]['index'].values[0]\n",
    "similarity_score = list(enumerate(cosine_similarity[index_of_the_movie]))\n",
    "sorted_similar_movies = sorted(similarity_score,key = lambda x:x[1], reverse = True)\n",
    "print('Moves suggested for you: \\n')\n",
    "\n",
    "i = 1\n",
    "for movie in sorted_similar_movies:\n",
    "    index = movie[0]\n",
    "    title_from_index = movies_data[movies_data.index == index]['title'].values[0]\n",
    "    if(i<6):\n",
    "        print(i,'.', title_from_index)\n",
    "        i+=1\n",
    "\n",
    "\n"
   ]
  },
  {
   "cell_type": "code",
   "execution_count": null,
   "id": "2274550b",
   "metadata": {},
   "outputs": [],
   "source": []
  },
  {
   "cell_type": "code",
   "execution_count": null,
   "id": "744f3b20",
   "metadata": {},
   "outputs": [],
   "source": []
  },
  {
   "cell_type": "code",
   "execution_count": null,
   "id": "1a18f29f",
   "metadata": {},
   "outputs": [],
   "source": []
  }
 ],
 "metadata": {
  "kernelspec": {
   "display_name": "Python 3 (ipykernel)",
   "language": "python",
   "name": "python3"
  },
  "language_info": {
   "codemirror_mode": {
    "name": "ipython",
    "version": 3
   },
   "file_extension": ".py",
   "mimetype": "text/x-python",
   "name": "python",
   "nbconvert_exporter": "python",
   "pygments_lexer": "ipython3",
   "version": "3.11.5"
  }
 },
 "nbformat": 4,
 "nbformat_minor": 5
}
